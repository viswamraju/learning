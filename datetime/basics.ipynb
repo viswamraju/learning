{
 "cells": [
  {
   "cell_type": "markdown",
   "id": "0b20e3fd",
   "metadata": {},
   "source": [
    "# Datetime Module"
   ]
  },
  {
   "cell_type": "code",
   "execution_count": 2,
   "id": "f650156f",
   "metadata": {},
   "outputs": [],
   "source": [
    "from datetime import datetime, date, timedelta"
   ]
  },
  {
   "cell_type": "code",
   "execution_count": 3,
   "id": "78f38b88",
   "metadata": {},
   "outputs": [],
   "source": [
    "today = date.today()"
   ]
  },
  {
   "cell_type": "code",
   "execution_count": 4,
   "id": "a04dd0cc",
   "metadata": {},
   "outputs": [
    {
     "data": {
      "text/plain": [
       "datetime.date(2021, 10, 31)"
      ]
     },
     "execution_count": 4,
     "metadata": {},
     "output_type": "execute_result"
    }
   ],
   "source": [
    "today"
   ]
  },
  {
   "cell_type": "code",
   "execution_count": 5,
   "id": "853d4189",
   "metadata": {},
   "outputs": [
    {
     "data": {
      "text/plain": [
       "datetime.date(2022, 1, 9)"
      ]
     },
     "execution_count": 5,
     "metadata": {},
     "output_type": "execute_result"
    }
   ],
   "source": [
    "today + timedelta(70)"
   ]
  },
  {
   "cell_type": "code",
   "execution_count": 6,
   "id": "76001cd4",
   "metadata": {},
   "outputs": [
    {
     "data": {
      "text/plain": [
       "datetime.date(2021, 11, 7)"
      ]
     },
     "execution_count": 6,
     "metadata": {},
     "output_type": "execute_result"
    }
   ],
   "source": [
    "today + timedelta(days=7)"
   ]
  },
  {
   "cell_type": "code",
   "execution_count": 7,
   "id": "b71974a8",
   "metadata": {},
   "outputs": [],
   "source": [
    "pybites_born = date(2016, 12, 19) "
   ]
  },
  {
   "cell_type": "code",
   "execution_count": 8,
   "id": "b4b54b64",
   "metadata": {},
   "outputs": [
    {
     "data": {
      "text/plain": [
       "datetime.date(2016, 12, 19)"
      ]
     },
     "execution_count": 8,
     "metadata": {},
     "output_type": "execute_result"
    }
   ],
   "source": [
    "pybites_born"
   ]
  },
  {
   "cell_type": "code",
   "execution_count": 10,
   "id": "9da6aebe",
   "metadata": {},
   "outputs": [],
   "source": [
    "diff = today - pybites_born"
   ]
  },
  {
   "cell_type": "code",
   "execution_count": 11,
   "id": "7d21c138",
   "metadata": {},
   "outputs": [
    {
     "data": {
      "text/plain": [
       "datetime.timedelta(days=1777)"
      ]
     },
     "execution_count": 11,
     "metadata": {},
     "output_type": "execute_result"
    }
   ],
   "source": [
    "diff"
   ]
  },
  {
   "cell_type": "markdown",
   "id": "9063344c",
   "metadata": {},
   "source": [
    "### Use ! to run command in notebook"
   ]
  },
  {
   "cell_type": "code",
   "execution_count": 12,
   "id": "7f55114e",
   "metadata": {},
   "outputs": [
    {
     "name": "stdout",
     "output_type": "stream",
     "text": [
      "pip 21.2.4 from C:\\Users\\bogaraju\\.virtualenvs\\gcp\\lib\\site-packages\\pip (python 3.9)\n",
      "\n"
     ]
    }
   ],
   "source": [
    "!pip --version"
   ]
  },
  {
   "cell_type": "markdown",
   "id": "49d08b83",
   "metadata": {},
   "source": [
    "### Install python-dateutil\n",
    "#### &emsp;pip install python-dateutil"
   ]
  },
  {
   "cell_type": "code",
   "execution_count": 6,
   "id": "2a674932",
   "metadata": {},
   "outputs": [
    {
     "name": "stdout",
     "output_type": "stream",
     "text": [
      "Collecting python-dateutil\n",
      "  Using cached python_dateutil-2.8.2-py2.py3-none-any.whl (247 kB)\n",
      "Requirement already satisfied: six>=1.5 in c:\\users\\bogaraju\\appdata\\local\\programs\\python\\python39\\lib\\site-packages (from python-dateutil) (1.16.0)\n",
      "Installing collected packages: python-dateutil\n"
     ]
    },
    {
     "name": "stderr",
     "output_type": "stream",
     "text": [
      "WARNING: You are using pip version 21.2.4; however, version 21.3.1 is available.\n",
      "You should consider upgrading via the 'c:\\users\\bogaraju\\appdata\\local\\programs\\python\\python39\\python.exe -m pip install --upgrade pip' command.\n"
     ]
    },
    {
     "name": "stdout",
     "output_type": "stream",
     "text": [
      "Successfully installed python-dateutil-2.8.2\n"
     ]
    }
   ],
   "source": [
    "! pip install python-dateutil"
   ]
  },
  {
   "cell_type": "code",
   "execution_count": 15,
   "id": "d1b17966",
   "metadata": {},
   "outputs": [
    {
     "data": {
      "text/plain": [
       "relativedelta(years=+4, months=+10, days=+12)"
      ]
     },
     "execution_count": 15,
     "metadata": {},
     "output_type": "execute_result"
    }
   ],
   "source": [
    "from dateutil.relativedelta import relativedelta\n",
    "relativedelta(today, pybites_born)"
   ]
  },
  {
   "cell_type": "code",
   "execution_count": 17,
   "id": "303ece1a",
   "metadata": {},
   "outputs": [
    {
     "data": {
      "text/plain": [
       "4"
      ]
     },
     "execution_count": 17,
     "metadata": {},
     "output_type": "execute_result"
    }
   ],
   "source": [
    "relativedelta(today, pybites_born).years"
   ]
  },
  {
   "cell_type": "code",
   "execution_count": 18,
   "id": "884bae3a",
   "metadata": {},
   "outputs": [
    {
     "data": {
      "text/plain": [
       "10"
      ]
     },
     "execution_count": 18,
     "metadata": {},
     "output_type": "execute_result"
    }
   ],
   "source": [
    "relativedelta(today, pybites_born).months"
   ]
  },
  {
   "cell_type": "code",
   "execution_count": 19,
   "id": "afa3653c",
   "metadata": {},
   "outputs": [
    {
     "data": {
      "text/plain": [
       "12"
      ]
     },
     "execution_count": 19,
     "metadata": {},
     "output_type": "execute_result"
    }
   ],
   "source": [
    "relativedelta(today, pybites_born).days"
   ]
  },
  {
   "cell_type": "code",
   "execution_count": 20,
   "id": "12e12b39",
   "metadata": {},
   "outputs": [
    {
     "name": "stdout",
     "output_type": "stream",
     "text": [
      "Help on built-in function strptime:\n",
      "\n",
      "strptime(...) method of builtins.type instance\n",
      "    string, format -> new datetime parsed from a string (like time.strptime()).\n",
      "\n"
     ]
    }
   ],
   "source": [
    "help(datetime.strptime)"
   ]
  },
  {
   "cell_type": "code",
   "execution_count": 21,
   "id": "27ca1207",
   "metadata": {},
   "outputs": [
    {
     "data": {
      "text/plain": [
       "'2021-10-31'"
      ]
     },
     "execution_count": 21,
     "metadata": {},
     "output_type": "execute_result"
    }
   ],
   "source": [
    "str(today)"
   ]
  },
  {
   "cell_type": "code",
   "execution_count": 24,
   "id": "60006ef1",
   "metadata": {},
   "outputs": [
    {
     "data": {
      "text/plain": [
       "datetime.datetime(2021, 10, 31, 0, 0)"
      ]
     },
     "execution_count": 24,
     "metadata": {},
     "output_type": "execute_result"
    }
   ],
   "source": [
    "datetime.strptime('2021-10-31', \"%Y-%m-%d\")"
   ]
  },
  {
   "cell_type": "code",
   "execution_count": 25,
   "id": "d4f56d5b",
   "metadata": {},
   "outputs": [
    {
     "data": {
      "text/plain": [
       "datetime.datetime(2021, 10, 31, 0, 0)"
      ]
     },
     "execution_count": 25,
     "metadata": {},
     "output_type": "execute_result"
    }
   ],
   "source": [
    "from dateutil.parser import parse\n",
    "parse('2021-10-31')"
   ]
  },
  {
   "cell_type": "code",
   "execution_count": 26,
   "id": "302e1ac3",
   "metadata": {},
   "outputs": [],
   "source": [
    "import calendar"
   ]
  },
  {
   "cell_type": "code",
   "execution_count": 36,
   "id": "3b0e8464",
   "metadata": {},
   "outputs": [
    {
     "name": "stdout",
     "output_type": "stream",
     "text": [
      "['Calendar', 'EPOCH', 'FRIDAY', 'February', 'HTMLCalendar', 'IllegalMonthError', 'IllegalWeekdayError', 'January', 'LocaleHTMLCalendar', 'LocaleTextCalendar', 'MONDAY', 'SATURDAY', 'SUNDAY', 'THURSDAY', 'TUESDAY', 'TextCalendar', 'WEDNESDAY', '_EPOCH_ORD', '__all__', '__builtins__', '__cached__', '__doc__', '__file__', '__loader__', '__name__', '__package__', '__spec__', '_colwidth', '_locale', '_localized_day', '_localized_month', '_monthlen', '_nextmonth', '_prevmonth', '_spacing', 'c', 'calendar', 'datetime', 'day_abbr', 'day_name', 'different_locale', 'error', 'firstweekday', 'format', 'formatstring', 'isleap', 'leapdays', 'main', 'mdays', 'month', 'month_abbr', 'month_name', 'monthcalendar', 'monthrange', 'prcal', 'prmonth', 'prweek', 'repeat', 'setfirstweekday', 'sys', 'timegm', 'week', 'weekday', 'weekheader']\n"
     ]
    }
   ],
   "source": [
    "print(dir(calendar))"
   ]
  },
  {
   "cell_type": "code",
   "execution_count": 29,
   "id": "9bb82b6e",
   "metadata": {},
   "outputs": [
    {
     "data": {
      "text/plain": [
       "[[0, 0, 0, 0, 1, 2, 3],\n",
       " [4, 5, 6, 7, 8, 9, 10],\n",
       " [11, 12, 13, 14, 15, 16, 17],\n",
       " [18, 19, 20, 21, 22, 23, 24],\n",
       " [25, 26, 27, 28, 29, 30, 31]]"
      ]
     },
     "execution_count": 29,
     "metadata": {},
     "output_type": "execute_result"
    }
   ],
   "source": [
    "calendar.monthcalendar(2021, 10)"
   ]
  },
  {
   "cell_type": "code",
   "execution_count": 37,
   "id": "62c89dce",
   "metadata": {},
   "outputs": [
    {
     "name": "stdout",
     "output_type": "stream",
     "text": [
      "['Jan', 'Feb', 'Mar', 'Apr', 'May', 'Jun', 'Jul', 'Aug', 'Sep', 'Oct', 'Nov', 'Dec']\n"
     ]
    }
   ],
   "source": [
    "print(calendar.month_abbr[1:])"
   ]
  },
  {
   "cell_type": "code",
   "execution_count": 40,
   "id": "4b6e42d5",
   "metadata": {},
   "outputs": [
    {
     "name": "stdout",
     "output_type": "stream",
     "text": [
      "{'Jan': 1, 'Feb': 2, 'Mar': 3, 'Apr': 4, 'May': 5, 'Jun': 6, 'Jul': 7, 'Aug': 8, 'Sep': 9, 'Oct': 10, 'Nov': 11, 'Dec': 12}\n"
     ]
    }
   ],
   "source": [
    "print({month: index for index, month in enumerate(calendar.month_abbr[1:], start=1)})"
   ]
  },
  {
   "cell_type": "markdown",
   "id": "6e285ba7",
   "metadata": {},
   "source": [
    "### Convert unix timestamp to datetime"
   ]
  },
  {
   "cell_type": "code",
   "execution_count": 41,
   "id": "fe889940",
   "metadata": {},
   "outputs": [],
   "source": [
    "from time import time"
   ]
  },
  {
   "cell_type": "code",
   "execution_count": 42,
   "id": "cc0cfecf",
   "metadata": {},
   "outputs": [
    {
     "data": {
      "text/plain": [
       "1635654086.7387295"
      ]
     },
     "execution_count": 42,
     "metadata": {},
     "output_type": "execute_result"
    }
   ],
   "source": [
    "time()"
   ]
  },
  {
   "cell_type": "code",
   "execution_count": 1,
   "id": "a9e6a231",
   "metadata": {},
   "outputs": [
    {
     "ename": "NameError",
     "evalue": "name 'datetime' is not defined",
     "output_type": "error",
     "traceback": [
      "\u001b[1;31m---------------------------------------------------------------------------\u001b[0m",
      "\u001b[1;31mNameError\u001b[0m                                 Traceback (most recent call last)",
      "\u001b[1;32m~\\DOCUME~1\\MOBAXT~1\\slash\\tmp/ipykernel_4308/1619934339.py\u001b[0m in \u001b[0;36m<module>\u001b[1;34m\u001b[0m\n\u001b[1;32m----> 1\u001b[1;33m \u001b[0mdatetime\u001b[0m\u001b[1;33m.\u001b[0m\u001b[0mutcfromtimestamp\u001b[0m\u001b[1;33m(\u001b[0m\u001b[0mtime\u001b[0m\u001b[1;33m(\u001b[0m\u001b[1;33m)\u001b[0m\u001b[1;33m)\u001b[0m\u001b[1;33m\u001b[0m\u001b[1;33m\u001b[0m\u001b[0m\n\u001b[0m",
      "\u001b[1;31mNameError\u001b[0m: name 'datetime' is not defined"
     ]
    }
   ],
   "source": [
    "datetime.utcfromtimestamp(time())"
   ]
  },
  {
   "cell_type": "code",
   "execution_count": null,
   "id": "0532b4f5",
   "metadata": {},
   "outputs": [],
   "source": []
  }
 ],
 "metadata": {
  "interpreter": {
   "hash": "d7ed722ca661e5fc18a47dfc0de96526cccde44fd6e92f5ccd68986e9dfb5dfb"
  },
  "kernelspec": {
   "display_name": "Python 3.9.6 64-bit ('gcp': virtualenv)",
   "name": "python3"
  },
  "language_info": {
   "codemirror_mode": {
    "name": "ipython",
    "version": 3
   },
   "file_extension": ".py",
   "mimetype": "text/x-python",
   "name": "python",
   "nbconvert_exporter": "python",
   "pygments_lexer": "ipython3",
   "version": "3.9.6"
  }
 },
 "nbformat": 4,
 "nbformat_minor": 5
}
